{
 "cells": [
  {
   "cell_type": "code",
   "execution_count": null,
   "metadata": {},
   "outputs": [],
   "source": [
    "import tensorflow as tf\n",
    "import matplotlib.pyplot as plt\n",
    "\n",
    "from tensorflow.keras import layers, models\n",
    "from tensorflow.keras.optimizers import Adam\n",
    "from tensorflow.keras.models import Sequential\n",
    "from tensorflow.keras.preprocessing.image import ImageDataGenerator\n",
    "from tensorflow.keras.layers import Conv2D, MaxPooling2D, Flatten, Dense, Dropout"
   ]
  },
  {
   "cell_type": "code",
   "execution_count": null,
   "metadata": {},
   "outputs": [],
   "source": [
    "PATH_OF_IMAGES = './raw-img/'\n",
    "TARGET_SIZE = (128, 128)\n",
    "BATCH_SIZE = 256\n",
    "EPOCHS = 40\n",
    "CLASSES = 10"
   ]
  },
  {
   "cell_type": "code",
   "execution_count": null,
   "metadata": {},
   "outputs": [],
   "source": [
    "datagen = ImageDataGenerator(\n",
    "    rescale=1./255,\n",
    "    rotation_range=40,\n",
    "    width_shift_range=0.2,\n",
    "    height_shift_range=0.2,\n",
    "    shear_range=0.2,\n",
    "    zoom_range=0.2,\n",
    "    horizontal_flip=True,\n",
    "    fill_mode='nearest',\n",
    "    validation_split=0.2)  # 20% az adatoknak validációs készlet lesz\n"
   ]
  },
  {
   "cell_type": "code",
   "execution_count": null,
   "metadata": {},
   "outputs": [],
   "source": [
    "train_generator = datagen.flow_from_directory(\n",
    "    PATH_OF_IMAGES,  # Az összes kép tartalmazó mappa\n",
    "    target_size=TARGET_SIZE,   # Célméret a képek átméretezésére\n",
    "    batch_size=BATCH_SIZE,\n",
    "    class_mode='categorical',  # Vagy 'binary', ha kevesebb mint két osztályod van\n",
    "    subset='training')    # Tanító adatkészlet\n",
    "\n",
    "validation_generator = datagen.flow_from_directory(\n",
    "    PATH_OF_IMAGES,  # Ugyanaz a mappa, mint a tanítónál\n",
    "    target_size=TARGET_SIZE,\n",
    "    batch_size=BATCH_SIZE,\n",
    "    class_mode='categorical',  # Vagy 'binary'\n",
    "    subset='validation')  # Validációs adatkészlet\n"
   ]
  },
  {
   "cell_type": "code",
   "execution_count": null,
   "metadata": {},
   "outputs": [],
   "source": [
    "model = Sequential([\n",
    "    # Első konvolúciós réteg\n",
    "    Conv2D(32, (3, 3), activation='relu', input_shape=(TARGET_SIZE[0], TARGET_SIZE[1], 3)),\n",
    "    MaxPooling2D(2, 2),\n",
    "    \n",
    "    # Második konvolúciós réteg\n",
    "    Conv2D(64, (3, 3), activation='relu'),\n",
    "    MaxPooling2D(2, 2),\n",
    "    \n",
    "    # Harmadik konvolúciós réteg\n",
    "    Conv2D(128, (3, 3), activation='relu'),\n",
    "    MaxPooling2D(2, 2),\n",
    "    \n",
    "    # Negyedik konvolúciós réteg\n",
    "    Conv2D(128, (3, 3), activation='relu'),\n",
    "    MaxPooling2D(2, 2),\n",
    "    \n",
    "    # Képek lapítása egyetlen vektorrá\n",
    "    Flatten(),\n",
    "    \n",
    "    # Dropout réteg az overfitting csökkentésére\n",
    "    Dropout(0.5),\n",
    "    \n",
    "    # Teljesen összekötött réteg\n",
    "    Dense(512, activation='relu'),\n",
    "    \n",
    "    # Kimenet\n",
    "    Dense(CLASSES, activation='softmax')  # Tíz osztály megkülönböztetéséhez\n",
    "])\n",
    "\n",
    "model.compile(loss='categorical_crossentropy',  # Többosztályos klasszifikációhoz\n",
    "              optimizer='adam',\n",
    "              metrics=['accuracy'])\n",
    "\n",
    "model.summary()"
   ]
  },
  {
   "cell_type": "code",
   "execution_count": null,
   "metadata": {},
   "outputs": [],
   "source": [
    "# Modell tanítása\n",
    "history = model.fit(\n",
    "    train_generator,\n",
    "    epochs=EPOCHS,  # Tanítási epochok száma\n",
    "    validation_data=validation_generator,\n",
    "    verbose=2)\n"
   ]
  },
  {
   "cell_type": "code",
   "execution_count": null,
   "metadata": {},
   "outputs": [],
   "source": [
    "# A tanulási görbék ábrázolása\n",
    "\n",
    "acc = history.history['accuracy']\n",
    "val_acc = history.history['val_accuracy']\n",
    "loss = history.history['loss']\n",
    "val_loss = history.history['val_loss']\n",
    "\n",
    "epochs = range(len(acc))\n",
    "\n",
    "plt.figure(figsize=(16, 8))\n",
    "plt.subplot(1, 2, 1)\n",
    "plt.plot(epochs, acc, 'bo', label='Tanítási pontosság')\n",
    "plt.plot(epochs, val_acc, 'b', label='Validációs pontosság')\n",
    "plt.title('Tanítási és validációs pontosság')\n",
    "plt.legend()\n",
    "\n",
    "plt.subplot(1, 2, 2)\n",
    "plt.plot(epochs, loss, 'bo', label='Tanítási veszteség')\n",
    "plt.plot(epochs, val_loss, 'b', label='Validációs veszteség')\n",
    "plt.title('Tanítási és validációs veszteség')\n",
    "plt.legend()\n",
    "\n",
    "plt.show()"
   ]
  }
 ],
 "metadata": {
  "kernelspec": {
   "display_name": "Python 3",
   "language": "python",
   "name": "python3"
  },
  "language_info": {
   "codemirror_mode": {
    "name": "ipython",
    "version": 3
   },
   "file_extension": ".py",
   "mimetype": "text/x-python",
   "name": "python",
   "nbconvert_exporter": "python",
   "pygments_lexer": "ipython3",
   "version": "3.10.7"
  }
 },
 "nbformat": 4,
 "nbformat_minor": 2
}
